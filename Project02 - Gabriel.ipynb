{
 "cells": [
  {
   "cell_type": "markdown",
   "id": "245918b3-be3c-4d1f-9a58-7f2a88d01183",
   "metadata": {},
   "source": [
    "# Project 2\n",
    "### CS 5/7394 - Applied Machine Learning\n",
    "\n",
    "- **Due** - March 11 @ 11:59 pm pushed to Github repo\n",
    "- **Teams** - You can do this project solo or in pairs.  Not 3, not 4 not 5... Max of 2. If a 5394 student pairs with a 7394 student, the pair needs to do the 7394 work. "
   ]
  },
  {
   "cell_type": "markdown",
   "id": "cae9b08f-7745-4dfb-8927-258f22423720",
   "metadata": {},
   "source": [
    "Below are 6 Kaggle Datasets.  You will choose 1 to work with for this project. \n",
    "\n",
    "- [Airfare Prediction Dataset](https://www.kaggle.com/zwartfreak/airline-fare-prediction)\n",
    "- [Chinese Rest Holiday Dataset](https://www.kaggle.com/holoong9291/chinese-rest-holiday-dataset-2020-to-2022)\n",
    "- [Jigsaw Toxic Comment Classification Challenge](https://www.kaggle.com/julian3833/jigsaw-toxic-comment-classification-challenge?select=train.csv)\n",
    "- [Latest Covid 19 Dataset Worldwide](https://www.kaggle.com/sandhyakrishnan02/latest-covid-19-dataset-worldwide)\n",
    "- [Trains](https://www.kaggle.com/vahidehdashti/machinelearningdatabase-trains?select=trains-original.data)\n",
    "- [Football Data top 5 Leagues](https://www.kaggle.com/sanjeetsinghnaik/football-data-top-5-leagues)\n",
    "\n",
    "Merging disparate datasets is a staple of the data exploration process.  Therefore, for which ever data set above that you choose, you will need to independently find **an additional** dataset to merge with your selection.  The only requirement is that it add to the richness of the original dataset. Students in the 7000-level version of the class need to find two additional data sets to merge with the original selection. \n",
    "\n",
    "_Note_: If you want to start with a different data set, you need to get Fontenot's OK first.  "
   ]
  },
  {
   "cell_type": "markdown",
   "id": "126330db-b29f-46d9-b16e-7811612a9e73",
   "metadata": {},
   "source": [
    "### Your Tasks\n",
    "\n",
    "Below, there are cells that provide directions on what to do for the project.  \n",
    "\n",
    "You can insert as many cells between the ones below as you'd like, but please **Do NOT** change the cells already provided. "
   ]
  },
  {
   "cell_type": "markdown",
   "id": "0f2ca87f-07eb-4792-b76e-15f2f01d1408",
   "metadata": {},
   "source": [
    "### Part 1 - Getting Started\n",
    "\n",
    "- Import libraries\n",
    "- Load original Data (which ever one you chose from the provided list) into a data frame. \n",
    "- Load your additional data set(s) into a data frame. \n",
    "- In a markdown cell, provide a brief description of your the data sets you've chosen to work with.  \n",
    "- Develop a list of 3 - 4 questions that you hope to be able to answer after the exploration of the data and write them in this section.  (Relationship Questions)"
   ]
  },
  {
   "cell_type": "code",
   "execution_count": 1,
   "id": "ef9b70f5-346e-47af-9d38-043de6663c0c",
   "metadata": {},
   "outputs": [],
   "source": [
    "import pandas"
   ]
  },
  {
   "cell_type": "code",
   "execution_count": 4,
   "id": "72aa405d",
   "metadata": {},
   "outputs": [],
   "source": [
    "data_orig = pandas.read_csv(\"data/data-orig.csv\")"
   ]
  },
  {
   "attachments": {},
   "cell_type": "markdown",
   "id": "77e52d23",
   "metadata": {},
   "source": [
    "<strong>Original Data Description</strong>\n",
    "\n",
    "<strong>Name</strong>: Huge Dataset - COVID 19 worldwide case\n",
    "\n",
    "<strong>Description:</strong> This dataset contains COVID-19 details by country until January 8th, 2022.\n",
    "\n",
    "<strong>Columns</strong>:\n",
    "- iso_code (categorical): The ISO code for a country\n",
    "- continent (categorical): The continent the country is on\n",
    "- location (categorical): The name of the country\n",
    "- date (categorical): Date the data was collected\n",
    "- total_cases (numerical): Total confirmed cases of COVID-19 in the country\n",
    "- new_cases (numerical): Total confirmed cases of CAVID-19 since the last data collection\n",
    "- new_cases_smoothed (numerical): new_cases smoothed to 7 days\n",
    "- total_deaths (numerical): Total deaths due to COVID-19\n",
    "- new_deaths (numerical): Total new deaths due to COVID-19 since the last data collection\n",
    "- new_deaths_smoothed (numerical): new_deaths column smoothed to 7 days\n",
    "- total_cases_per_million (numerical): Total confirmed COVID-19 cases per million people in the population\n",
    "- new_cases_per_million (numerical): Total new confirmed COVID-19 cases per million people in the population\n",
    "- new_cases_smoothed_per_million (numerical): new_cases_per_million column smoothed to 7 days\n",
    "- total_deaths_per_million (numerical): Total number of deaths per million people in the population\n",
    "- new_deaths_per_million (numerical): Total number of new deaths per million people in the population\n",
    "- new_deaths_smoothed_per_million (numerical): new_deaths_per_million smoothed to 7 days\n",
    "- reproduction_rate (numerical): Real-time estimate of the effective reproduction rate (R) of COVID-19\n",
    "- icu_patients (numerical): Number of ICU patients on a given day\n",
    "- icu_patients_per_million (numerical): Number of ICU patients per mullion people in the population on a given day\n",
    "- hosp_patients (numerical): Number of hospitalized patients on a given day\n",
    "- hosp_patients_per_million (numerical): Number of hospitalized patients per million people in the population on a given day\n",
    "- weekly_icu_admissions (numerical): Number of COVID-19 patients newly admitted to intensive care units (ICUs) in a given week\n",
    "- weekly_icu_admissions_per_million (numerical): Number of COVID-19 patients newly admitted to intensive care units (ICUs) in a given week per million people\n",
    "- weekly_hosp_admissions (numerical): Number of COVID-19 patients newly admitted to hospitals in a given week\n",
    "- weekly_hosp_admissions_per_million (numerical): Number of COVID-19 patients newly admitted to hospitals in a given week per million people\n",
    "- new_tests (numerical): New tests for COVID-19 (only calculated for consecutive days)\n",
    "- total_tests (numerical): Total tests for COVID-19\n",
    "- total_tests_per_thousand (numerical): Total tests for COVID-19 per 1,000 people\n",
    "- new_tests_per_thousand (numerical): New tests for COVID-19 per 1,000 people\n",
    "- new_tests_smoothed (numerical): New tests for COVID-19 (7-day smoothed)\n",
    "- new_tests_smoothed_per_thousand (numerical): New tests for COVID-19 (7-day smoothed) per 1,000 people\n",
    "- positive_rate (numerical): The share of COVID-19 tests that are positive, given as a rolling 7-day average (this is the inverse of testspercase)\n",
    "- tests_per_case (numerical): Tests conducted per new confirmed case of COVID-19, given as a rolling 7-day average (this is the inverse of positiverate)\n",
    "- tests_units (categorical): Units used by the location to report its testing data\n",
    "- total_vaccinations (numerical): Total number of COVID-19 vaccination doses administered\n",
    "- people_vaccinated (numerical): Total number of people who received at least one vaccine dose\n",
    "- people_fully_vaccinated (numerical): Total number of people who received all doses prescribed by the vaccination protocol\n",
    "- total_boosters (numerical): Total number of COVID-19 vaccination booster doses administered\n",
    "- new_vaccinations (numerical): New COVID-19 vaccination doses administered (only calculated for consecutive days)\n",
    "- new_vaccinations_smoothed (numerical): New COVID-19 vaccination doses administered (7-day smoothed)\n",
    "- total_vaccinations_per_hundred (numerical): Total number of COVID-19 vaccination doses administered per 100 people in the total population\n",
    "- people_vaccinated_per_hundred (numerical): Total number of people who received at least one vaccine dose per 100 people in the total population\n",
    "- people_fully_vaccinated_per_hundred (numerical): Total number of people who received all doses prescribed by the vaccination protocol per 100 people in the total population\n",
    "- total_boosters_per_hundred (numerical): Total number of COVID-19 vaccination booster doses administered per 100 people in the total population\n",
    "- new_vaccinations_smoothed_per_million (numerical): New COVID-19 vaccination doses administered (7-day smoothed) per 1,000,000 people in the total population\n",
    "- new_people_vaccinated_smoothed (numerical): Daily number of people receiving their first vaccine dose (7-day smoothed)\n",
    "- new_people_vaccinated_smoothed_per_hundred (numerical): Daily number of people receiving their first vaccine dose (7-day smoothed) per 100 people in the total population\n",
    "- stringency_index (numerical): Government Response Stringency Index: composite measure based on 9 response indicators including school closures, workplace closures, and travel bans, rescaled to a value from 0 to 100 (100 = strictest response)\n",
    "- population (numerical): Population of the country\n",
    "- population_density (numerical): Number of people divided by land area, measured in square kilometers, most recent year available\n",
    "- median_age (numerical): Median age of the population, UN projection for 2020\n",
    "- aged_65_older (numerical): Share of the population that is 65 years and older, most recent year available\n",
    "- aged_70_older (numerical): Share of the population that is 70 years and older in 2015\n",
    "- gdp_per_capita (numerical): Gross domestic product at purchasing power parity (constant 2011 international dollars), most recent year available\n",
    "- extreme_poverty (numerical): Share of the population living in extreme poverty, most recent year available since 2010\n",
    "- cardiovasc_death_rate (numerical): Death rate from cardiovascular disease in 2017 (annual number of deaths per 100,000 people)\n",
    "- diabetes_prevalence (numerical): Diabetes prevalence (% of population aged 20 to 79) in 2017\n",
    "- female_smokers (numerical): Share of women who smoke, most recent year available\n",
    "- male_smokers (numerical): Share of men who smoke, most recent year available\n",
    "- handwashing_facilities (numerical): Share of the population with basic handwashing facilities on-premises, most recent year available\n",
    "- hospital_beds_per_thousand (numerical): Hospital beds per 1,000 people, most recent year available since 2010\n",
    "- life_expectancy (numerical): Life expectancy at birth in 2019\n",
    "- human_development_index (numerical): A composite index measuring average achievement in three basic dimensions of human development—a long and healthy life, knowledge, and a decent standard of living.\n",
    "- excess_mortality_cumulative_absolute (numerical): Cumulative difference between the reported number of deaths since 1 January 2020 and the projected number of deaths for the same period based on previous years.\n",
    "- excess_mortality_cumulative (numerical): Percentage difference between the cumulative number of deaths since 1 January 2020 and the cumulative projected deaths for the same period based on previous years.\n",
    "- excess_mortality (numerical): Percentage difference between the reported number of weekly or monthly deaths in 2020–2021 and the projected number of deaths for the same period based on previous years.\n",
    "- excess_mortality_cumulative_per_million (numerical): Cumulative difference between the reported number of deaths since 1 January 2020 and the projected number of deaths for the same period based on previous years, per million people.\n",
    "\n",
    "\n",
    "<strong>In total</strong>:\n",
    "- 5 categorical\n",
    "- 65 numerical"
   ]
  },
  {
   "cell_type": "markdown",
   "id": "49dc4c66",
   "metadata": {},
   "source": [
    "<strong>Questions:</strong>\n",
    "1. How related is the age and number of death counts due to COVID-19?\n",
    "2. Do certain continents have more deaths per million people?\n",
    "3. Does GDP effect the number of deaths per million people?\n",
    "4. Is the total number of vaccinations lower on certain continents?"
   ]
  },
  {
   "cell_type": "markdown",
   "id": "7dc8b1e5-3e29-4da6-8d36-0e7cf48a3e59",
   "metadata": {},
   "source": [
    "### Part 2 - Data Inspection\n",
    "\n",
    "Write some code to summarize the datasets.  Think about the following questions:\n",
    "- What type of data is each variable? (think like a data scientist here, not a computer scientist)\n",
    "- What is the total size of the data sets?\n",
    "- What time boundaries are there in the dataset?  IOW, what time frame do they span?\n",
    "- Are there any missing values in any of the variables? \n",
    "\n",
    "Do this with Intentionality.  Don't skimp. "
   ]
  },
  {
   "cell_type": "markdown",
   "id": "9f392a7b",
   "metadata": {},
   "source": [
    "<strong>Data Types:</strong>\n",
    "- Categorical: iso_code, continent, location, date\n",
    "- Numerical: The rest\n",
    "\n",
    "<strong>Total Dataset Size:</strong>\n",
    "- Number of rows: 153172\n",
    "- Number of columns/variables: 67\n",
    "\n",
    "<strong>Time Frame:</strong>\n",
    "- Data from 1/15/2020 to 1/8/2022"
   ]
  },
  {
   "cell_type": "code",
   "execution_count": 30,
   "id": "dc8b3c62",
   "metadata": {
    "scrolled": false
   },
   "outputs": [
    {
     "data": {
      "text/html": [
       "<div>\n",
       "<style scoped>\n",
       "    .dataframe tbody tr th:only-of-type {\n",
       "        vertical-align: middle;\n",
       "    }\n",
       "\n",
       "    .dataframe tbody tr th {\n",
       "        vertical-align: top;\n",
       "    }\n",
       "\n",
       "    .dataframe thead th {\n",
       "        text-align: right;\n",
       "    }\n",
       "</style>\n",
       "<table border=\"1\" class=\"dataframe\">\n",
       "  <thead>\n",
       "    <tr style=\"text-align: right;\">\n",
       "      <th></th>\n",
       "      <th>iso_code</th>\n",
       "      <th>location</th>\n",
       "      <th>date</th>\n",
       "    </tr>\n",
       "  </thead>\n",
       "  <tbody>\n",
       "    <tr>\n",
       "      <th>0</th>\n",
       "      <td>AFG</td>\n",
       "      <td>Afghanistan</td>\n",
       "      <td>2020-02-24</td>\n",
       "    </tr>\n",
       "    <tr>\n",
       "      <th>1</th>\n",
       "      <td>AFG</td>\n",
       "      <td>Afghanistan</td>\n",
       "      <td>2020-02-25</td>\n",
       "    </tr>\n",
       "    <tr>\n",
       "      <th>2</th>\n",
       "      <td>AFG</td>\n",
       "      <td>Afghanistan</td>\n",
       "      <td>2020-02-26</td>\n",
       "    </tr>\n",
       "    <tr>\n",
       "      <th>3</th>\n",
       "      <td>AFG</td>\n",
       "      <td>Afghanistan</td>\n",
       "      <td>2020-02-27</td>\n",
       "    </tr>\n",
       "    <tr>\n",
       "      <th>4</th>\n",
       "      <td>AFG</td>\n",
       "      <td>Afghanistan</td>\n",
       "      <td>2020-02-28</td>\n",
       "    </tr>\n",
       "  </tbody>\n",
       "</table>\n",
       "</div>"
      ],
      "text/plain": [
       "  iso_code     location        date\n",
       "0      AFG  Afghanistan  2020-02-24\n",
       "1      AFG  Afghanistan  2020-02-25\n",
       "2      AFG  Afghanistan  2020-02-26\n",
       "3      AFG  Afghanistan  2020-02-27\n",
       "4      AFG  Afghanistan  2020-02-28"
      ]
     },
     "execution_count": 30,
     "metadata": {},
     "output_type": "execute_result"
    }
   ],
   "source": [
    "data_orig.dropna(axis=1)[:5]"
   ]
  },
  {
   "cell_type": "markdown",
   "id": "df418468",
   "metadata": {},
   "source": [
    "<strong>Missing Values</strong>\n",
    "- The following variables do <strong>NOT</strong> have missing or null values:\n",
    "  - iso_code\n",
    "  - location\n",
    "  - date\n",
    "- The rest of the variables have at least on null value"
   ]
  },
  {
   "cell_type": "markdown",
   "id": "f816006c-868c-4863-b0b8-e56e8a1ec8f3",
   "metadata": {
    "tags": []
   },
   "source": [
    "### Part 3 - Data Description\n",
    "\n",
    "- Create a data description (data dictionary) for your data sets.\n",
    "    - Describe each variable (4-6 word explanation)\n",
    "    - If categorical, what levels are present? If the levels are encoded, what do the codes mean?\n",
    "    - If numeric, provide min, max, median and any other univariate stats you'd like to add in. \n",
    "- Where appropriate, provide histograms or other visualizations to characterize each variable. "
   ]
  },
  {
   "cell_type": "code",
   "execution_count": 51,
   "id": "d7ac8421",
   "metadata": {
    "scrolled": true
   },
   "outputs": [
    {
     "data": {
      "text/plain": [
       "iso_code                                              ABW\n",
       "location                                      Afghanistan\n",
       "date                                           2020-01-01\n",
       "total_cases                                           1.0\n",
       "new_cases                                        -74347.0\n",
       "new_cases_smoothed                                -6223.0\n",
       "total_deaths                                          1.0\n",
       "new_deaths                                        -1918.0\n",
       "new_deaths_smoothed                              -232.143\n",
       "total_cases_per_million                             0.001\n",
       "new_cases_per_million                           -3125.829\n",
       "new_cases_smoothed_per_million                   -272.971\n",
       "total_deaths_per_million                              0.0\n",
       "new_deaths_per_million                            -75.911\n",
       "new_deaths_smoothed_per_million                   -10.844\n",
       "reproduction_rate                                   -0.03\n",
       "icu_patients                                          0.0\n",
       "icu_patients_per_million                              0.0\n",
       "hosp_patients                                         0.0\n",
       "hosp_patients_per_million                             0.0\n",
       "weekly_icu_admissions                                 0.0\n",
       "weekly_icu_admissions_per_million                     0.0\n",
       "weekly_hosp_admissions                                0.0\n",
       "weekly_hosp_admissions_per_million                    0.0\n",
       "new_tests                                             1.0\n",
       "total_tests                                           0.0\n",
       "total_tests_per_thousand                              0.0\n",
       "new_tests_per_thousand                                0.0\n",
       "new_tests_smoothed                                    0.0\n",
       "new_tests_smoothed_per_thousand                       0.0\n",
       "positive_rate                                         0.0\n",
       "tests_per_case                                        1.0\n",
       "total_vaccinations                                    0.0\n",
       "people_vaccinated                                     0.0\n",
       "people_fully_vaccinated                               1.0\n",
       "total_boosters                                        1.0\n",
       "new_vaccinations                                      0.0\n",
       "new_vaccinations_smoothed                             0.0\n",
       "total_vaccinations_per_hundred                        0.0\n",
       "people_vaccinated_per_hundred                         0.0\n",
       "people_fully_vaccinated_per_hundred                   0.0\n",
       "total_boosters_per_hundred                            0.0\n",
       "new_vaccinations_smoothed_per_million                 0.0\n",
       "new_people_vaccinated_smoothed                        0.0\n",
       "new_people_vaccinated_smoothed_per_hundred            0.0\n",
       "stringency_index                                      0.0\n",
       "population                                           47.0\n",
       "population_density                                  0.137\n",
       "median_age                                           15.1\n",
       "aged_65_older                                       1.144\n",
       "aged_70_older                                       0.526\n",
       "gdp_per_capita                                     661.24\n",
       "extreme_poverty                                       0.1\n",
       "cardiovasc_death_rate                               79.37\n",
       "diabetes_prevalence                                  0.99\n",
       "female_smokers                                        0.1\n",
       "male_smokers                                          7.7\n",
       "handwashing_facilities                              1.188\n",
       "hospital_beds_per_thousand                            0.1\n",
       "life_expectancy                                     53.28\n",
       "human_development_index                             0.394\n",
       "excess_mortality_cumulative_absolute             -31959.4\n",
       "excess_mortality_cumulative                        -28.45\n",
       "excess_mortality                                   -95.92\n",
       "excess_mortality_cumulative_per_million      -1745.051271\n",
       "dtype: object"
      ]
     },
     "execution_count": 51,
     "metadata": {},
     "output_type": "execute_result"
    }
   ],
   "source": [
    "pandas.options.display.max_rows = 65\n",
    "data_orig.min()"
   ]
  },
  {
   "cell_type": "code",
   "execution_count": 52,
   "id": "8ff68026",
   "metadata": {
    "scrolled": true
   },
   "outputs": [
    {
     "data": {
      "text/plain": [
       "iso_code                                               ZWE\n",
       "location                                          Zimbabwe\n",
       "date                                            2022-01-08\n",
       "total_cases                                    305191603.0\n",
       "new_cases                                        2879121.0\n",
       "new_cases_smoothed                             2265657.571\n",
       "total_deaths                                     5484782.0\n",
       "new_deaths                                         18062.0\n",
       "new_deaths_smoothed                              14704.714\n",
       "total_cases_per_million                         341391.525\n",
       "new_cases_per_million                            51427.491\n",
       "new_cases_smoothed_per_million                     7842.85\n",
       "total_deaths_per_million                          6085.808\n",
       "new_deaths_per_million                             453.772\n",
       "new_deaths_smoothed_per_million                    144.167\n",
       "reproduction_rate                                     5.92\n",
       "icu_patients                                       28891.0\n",
       "icu_patients_per_million                           176.791\n",
       "hosp_patients                                     133268.0\n",
       "hosp_patients_per_million                         1544.082\n",
       "weekly_icu_admissions                               4838.0\n",
       "weekly_icu_admissions_per_million                  221.212\n",
       "weekly_hosp_admissions                            138761.0\n",
       "weekly_hosp_admissions_per_million                 645.808\n",
       "new_tests                                        3740296.0\n",
       "total_tests                                    724212456.0\n",
       "total_tests_per_thousand                         22351.573\n",
       "new_tests_per_thousand                             534.013\n",
       "new_tests_smoothed                               6274804.0\n",
       "new_tests_smoothed_per_thousand                    132.639\n",
       "positive_rate                                       0.9704\n",
       "tests_per_case                                     50000.0\n",
       "total_vaccinations                            9421128533.0\n",
       "people_vaccinated                             4655633325.0\n",
       "people_fully_vaccinated                       3934989809.0\n",
       "total_boosters                                 776881247.0\n",
       "new_vaccinations                                55062967.0\n",
       "new_vaccinations_smoothed                       43026538.0\n",
       "total_vaccinations_per_hundred                      322.27\n",
       "people_vaccinated_per_hundred                       122.28\n",
       "people_fully_vaccinated_per_hundred                 118.96\n",
       "total_boosters_per_hundred                           81.03\n",
       "new_vaccinations_smoothed_per_million             117497.0\n",
       "new_people_vaccinated_smoothed                 100594085.0\n",
       "new_people_vaccinated_smoothed_per_hundred           11.75\n",
       "stringency_index                                     100.0\n",
       "population                                    7874965730.0\n",
       "population_density                               20546.766\n",
       "median_age                                            48.2\n",
       "aged_65_older                                       27.049\n",
       "aged_70_older                                       18.493\n",
       "gdp_per_capita                                    116935.6\n",
       "extreme_poverty                                       77.6\n",
       "cardiovasc_death_rate                              724.417\n",
       "diabetes_prevalence                                  30.53\n",
       "female_smokers                                        44.0\n",
       "male_smokers                                          78.1\n",
       "handwashing_facilities                               100.0\n",
       "hospital_beds_per_thousand                            13.8\n",
       "life_expectancy                                      86.75\n",
       "human_development_index                              0.957\n",
       "excess_mortality_cumulative_absolute             1043824.3\n",
       "excess_mortality_cumulative                          115.0\n",
       "excess_mortality                                    374.34\n",
       "excess_mortality_cumulative_per_million        7912.067517\n",
       "dtype: object"
      ]
     },
     "execution_count": 52,
     "metadata": {},
     "output_type": "execute_result"
    }
   ],
   "source": [
    "pandas.options.display.max_rows = 65\n",
    "data_orig.max()"
   ]
  },
  {
   "cell_type": "code",
   "execution_count": 53,
   "id": "2c0edbbc",
   "metadata": {},
   "outputs": [],
   "source": [
    "pandas.options.display.max_rows = 5"
   ]
  },
  {
   "cell_type": "markdown",
   "id": "65dba14e",
   "metadata": {},
   "source": [
    "<strong>Categorical</strong>"
   ]
  },
  {
   "cell_type": "markdown",
   "id": "88afb74a",
   "metadata": {},
   "source": [
    "| Column Name | Values | Column Description|\n",
    "| --- | --- | --- |\n",
    "| iso_code | All ISO codes for each country (text) | The ISO code for a country |\n",
    "| continent | All continent  names (text) | The continent the country is on |\n",
    "| location | All country names (text) | The name of the country |\n",
    "| date | Dates from 1/15/2020 to 1/8/2022 (text) | Date the data was collected |\n",
    "| tests_units | tests performed / people tested / units unclear / samples tested | Number of data reporting units |"
   ]
  },
  {
   "cell_type": "markdown",
   "id": "bf4103a4",
   "metadata": {},
   "source": [
    "<strong>Numerical</strong>"
   ]
  },
  {
   "attachments": {},
   "cell_type": "markdown",
   "id": "b9fda1c7",
   "metadata": {},
   "source": [
    "| Column Name | Minimum Value | Maximum Value |Column Description|\n",
    "| --- | --- | --- | --- |\n",
    "| total_cases | 1 | 305191603 | Total COVID-19 cases |\n",
    "| new_cases | -74347 | 2879121 | Total new COVID-19 cases |\n",
    "| new_cases_smoothed | -6223 | 2265657.571 | new_cases smoothed to 7 days |\n",
    "| total_deaths | 1 | 5484782 | Total deaths due to COVID-19 |\n",
    "| new_deaths | -1918 | 18062 |Total new deaths due to COVID-19 |\n",
    "| new_deaths_smoothed | -232.143 | 14704.714 | new_deaths column smoothed to 7 days |\n",
    "| total_cases_per_million | 0.001 | 341391.525 | Total COVID_19 deaths per million people |\n",
    "| new_cases_per_million | -3125.829 | 51427.491 | Total new cases per million people |\n",
    "| new_cases_smoothed_per_million | -272.971 | 7842.85 | new_cases_per_million column smoothed to 7 days |\n",
    "| total_deaths_per_million | 0 | 6085.808 | Total deaths per million people |\n",
    "| new_deaths_per_million | -75.911 | 453.772 | Total new deaths per million people |\n",
    "| new_deaths_smoothed_per_million | -10.844 | 144.167 | new_deaths_per_million smoothed to 7 days |\n",
    "| reproduction_rate | -0.03 | 5.92 | Estimated reproduction rate of COVID-19 |\n",
    "| icu_patients | 0 | 28891.0 | Number of ICU patients on collection day |\n",
    "| icu_patients_per_million | 0 | 176.791 | Number of ICU patients per million people |\n",
    "| hosp_patients | 0 | 133268.0 | Number of hospitalized patients |\n",
    "| hosp_patients_per_million | 0 | 1544.082 | Number of hospitalized patients per million people |\n",
    "| weekly_icu_admissions | 0 | 4838.0 | Number of ICU patients on collection week |\n",
    "| weekly_icu_admissions_per_million | 0 | 221.212 | Number of weekly ICU patients per million people |\n",
    "| weekly_hosp_admissions | 0 | 138761 | Number of hospitalized people on collection week |\n",
    "| weekly_hosp_admissions_per_million | 0 | 645.808 | Number of weekly hospitalized pateints per million people |\n",
    "| new_tests | 1 | 3740296 | New tests for COVID-19 |\n",
    "| total_tests | 0 | 724212456 | Total tests for COVID-19 |\n",
    "| total_tests_per_thousand | 0 | 22351.573 | Total tests for COVID-19 per 1,000 people |\n",
    "| new_tests_per_thousand | 0 | 534.013 | New tests for COVID-19 per 1,000 people |\n",
    "| new_tests_smoothed | 0 | 6274804 | new_tests smoothed to 7 days |\n",
    "| new_tests_smoothed_per_thousand | 0 | 132.639 | New COVID-19 tests smoothed per 1,000 people |\n",
    "| positive_rate | 0 | 0.9704 | 7-day average of positive COVID-19 test cases per total tests |\n",
    "| tests_per_case | 1 | 50000 | 7-day average of total COVID-19 tests per positive case |\n",
    "| total_vaccinations | 0 | 9421128533 | Total COVID-19 vaccines administered |\n",
    "| people_vaccinated | 0 | 4655633325 | Total people who received >= 1 vaccine |\n",
    "| people_fully_vaccinated | 1 | 3934989809 | Total people who are fully vaccinated |\n",
    "| total_boosters | 1 | 776881247 | Total number of boosters administered |\n",
    "| new_vaccinations | 0 | 55062967 | Total new vaccinations administered |\n",
    "| new_vaccinations_smoothed | 0 | 43026538 | new_vaccinations smoothed to 7 days |\n",
    "| total_vaccinations_per_hundred | 0 | 322.27 | Total vaccinations administered per 100 people |\n",
    "| people_vaccinated_per_hundred | 0 | 122.28 | Total people vaccinated per 100 people |\n",
    "| people_fully_vaccinated_per_hundred | 0 | 118.96 | Total fully vaccinated per 100 people |\n",
    "| total_boosters_per_hundred | 0 | 81.03 | Total boosters given per 100 people |\n",
    "| new_vaccinations_smoothed_per_million | 0 | 117497 | new vaccinations given per million people smoothed to 7 days |\n",
    "| new_people_vaccinated_smoothed | 0 | 100594085 | new_people_vaccinated smoothed to 7 days |\n",
    "| new_people_vaccinated_smoothed_per_hundred | 0 | 11.75 | New people vaccinated per 100 people smoothed to 7 days |\n",
    "| stringency_index | 0 | 100 | Government Response Stringency Index |\n",
    "| population | 47 | 7874965730 | Population of the country |\n",
    "| population_density | 0.137 | 20546.766 | Number of people divided by land area |\n",
    "| median_age | 15.1 | 48.2 | Median age of the population |\n",
    "| aged_65_older | 1.144 | 27.049 | Percent of population older than 65 |\n",
    "| aged_70_older | 0.526 | 18.493 | Percent of population older than 70 |\n",
    "| gdp_per_capita | 661.24 | 116935.6 | Gross domestic product at purchasing power parity |\n",
    "| extreme_poverty | 0.1 | 77.6 | Percent of people living in extreme poverty |\n",
    "| cardiovasc_death_rate | 79.37 | 724.417 | Death rate from cardiovascular disease |\n",
    "| diabetes_prevalence | 0.99 | 30.53 | Diabetes prevalence percentage |\n",
    "| female_smokers | 0.1 | 44.0 | Percent of women who smoke |\n",
    "| male_smokers | 7.7 | 78.1 | Percent of men who smoke |\n",
    "| handwashing_facilities | 1.188 | 100 | Percent of people with a handwashing facility |\n",
    "| hospital_beds_per_thousand | 0.1 | 13.8 | Hospital beds per 1,000 people |\n",
    "| life_expectancy | 53.28 | 86.75 | Life expectancy at birth in 2019 |\n",
    "| human_development_index | 0.394 | 0.957 | A composite index measuring average achievement |\n",
    "| excess_mortality_cumulative_absolute | -31959.4 | 1043824.3 | Absolute cumulative excess mortality rate |\n",
    "| excess_mortality_cumulative | -28.45 | 115.0 | Cumulative excess mortality rate |\n",
    "| excess_mortality | -95.92 | 374.34 | Percent excess mortality rate |\n",
    "| excess_mortality_cumulative_per_million | -1745.051271 | 7912.067517 | Cumulative excess mortality rate per million people |"
   ]
  },
  {
   "cell_type": "markdown",
   "id": "e3afbb04-3bee-4c47-b4ba-d2bfc247492a",
   "metadata": {},
   "source": [
    "### Part 4 - Merge the data\n",
    "\n",
    "Now that you have a better feel for each of your two (or three, for the 7394 students) data sets, it is time to merge them. Describe your strategy for merging the data sets and then actually perform the merge.  \n",
    "\n",
    "Develop a strategy for verifying that the data is properly merged (hoping and finger-crossing are not valid strategies). "
   ]
  },
  {
   "cell_type": "code",
   "execution_count": null,
   "id": "6ccfb384-f695-4a49-a084-d373d45111f6",
   "metadata": {},
   "outputs": [],
   "source": []
  },
  {
   "cell_type": "markdown",
   "id": "3063ca2e-ec1b-4799-bc76-4a464fc82921",
   "metadata": {
    "tags": []
   },
   "source": [
    "### Part 5 - Explore Bivariate relationships\n",
    "\n",
    "- Choose a reasoned set of variables to explore further.  You don't have to explore all possible pairs of variables, nor do we want to grade that much.  Choose 7 - 9 variables. One should be a variable that you'd like to predict (target variable) using the others (predictor variables). \n",
    "- List your predictor variables\n",
    "- List your target variable\n",
    "- Briefly describe why you have chosen these. \n",
    "\n",
    "Use any of the available visualizations from Seaborn to explore the relationships between the variables. Explore the relationships among the predictor variables as well as the relationship between each predictor variable and the target variable.  Which of the predictor variables are most strongly related?  Are there any interesting relationships between categorical predictors and numeric predictors?  If there are any dichotomous variables, does that influence any of the relationships? Are the relationships positive or negative? \n",
    "\n",
    "Below each plot, you should provide a description and interpretation of the plot.  Make sure to include why the variables in that plot were chosen and what you hope the reader would gain from it as well. "
   ]
  },
  {
   "cell_type": "code",
   "execution_count": null,
   "id": "4058bb4e-b6a0-4d4f-b271-cd0ec29951ab",
   "metadata": {},
   "outputs": [],
   "source": []
  }
 ],
 "metadata": {
  "kernelspec": {
   "display_name": "Python 3",
   "language": "python",
   "name": "python3"
  },
  "language_info": {
   "codemirror_mode": {
    "name": "ipython",
    "version": 3
   },
   "file_extension": ".py",
   "mimetype": "text/x-python",
   "name": "python",
   "nbconvert_exporter": "python",
   "pygments_lexer": "ipython3",
   "version": "3.8.10"
  }
 },
 "nbformat": 4,
 "nbformat_minor": 5
}
