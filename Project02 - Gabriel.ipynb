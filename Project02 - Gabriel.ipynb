{
 "cells": [
  {
   "cell_type": "markdown",
   "id": "245918b3-be3c-4d1f-9a58-7f2a88d01183",
   "metadata": {},
   "source": [
    "# Project 2\n",
    "### CS 5/7394 - Applied Machine Learning\n",
    "\n",
    "- **Due** - March 11 @ 11:59 pm pushed to Github repo\n",
    "- **Teams** - You can do this project solo or in pairs.  Not 3, not 4 not 5... Max of 2. If a 5394 student pairs with a 7394 student, the pair needs to do the 7394 work. "
   ]
  },
  {
   "cell_type": "markdown",
   "id": "cae9b08f-7745-4dfb-8927-258f22423720",
   "metadata": {},
   "source": [
    "Below are 6 Kaggle Datasets.  You will choose 1 to work with for this project. \n",
    "\n",
    "- [Airfare Prediction Dataset](https://www.kaggle.com/zwartfreak/airline-fare-prediction)\n",
    "- [Chinese Rest Holiday Dataset](https://www.kaggle.com/holoong9291/chinese-rest-holiday-dataset-2020-to-2022)\n",
    "- [Jigsaw Toxic Comment Classification Challenge](https://www.kaggle.com/julian3833/jigsaw-toxic-comment-classification-challenge?select=train.csv)\n",
    "- [Latest Covid 19 Dataset Worldwide](https://www.kaggle.com/sandhyakrishnan02/latest-covid-19-dataset-worldwide)\n",
    "- [Trains](https://www.kaggle.com/vahidehdashti/machinelearningdatabase-trains?select=trains-original.data)\n",
    "- [Football Data top 5 Leagues](https://www.kaggle.com/sanjeetsinghnaik/football-data-top-5-leagues)\n",
    "\n",
    "Merging disparate datasets is a staple of the data exploration process.  Therefore, for which ever data set above that you choose, you will need to independently find **an additional** dataset to merge with your selection.  The only requirement is that it add to the richness of the original dataset. Students in the 7000-level version of the class need to find two additional data sets to merge with the original selection. \n",
    "\n",
    "_Note_: If you want to start with a different data set, you need to get Fontenot's OK first.  "
   ]
  },
  {
   "cell_type": "markdown",
   "id": "126330db-b29f-46d9-b16e-7811612a9e73",
   "metadata": {},
   "source": [
    "### Your Tasks\n",
    "\n",
    "Below, there are cells that provide directions on what to do for the project.  \n",
    "\n",
    "You can insert as many cells between the ones below as you'd like, but please **Do NOT** change the cells already provided. "
   ]
  },
  {
   "cell_type": "markdown",
   "id": "0f2ca87f-07eb-4792-b76e-15f2f01d1408",
   "metadata": {},
   "source": [
    "### Part 1 - Getting Started\n",
    "\n",
    "- Import libraries\n",
    "- Load original Data (which ever one you chose from the provided list) into a data frame. \n",
    "- Load your additional data set(s) into a data frame. \n",
    "- In a markdown cell, provide a brief description of your the data sets you've chosen to work with.  \n",
    "- Develop a list of 3 - 4 questions that you hope to be able to answer after the exploration of the data and write them in this section.  (Relationship Questions)"
   ]
  },
  {
   "cell_type": "code",
   "execution_count": 1,
   "id": "ef9b70f5-346e-47af-9d38-043de6663c0c",
   "metadata": {},
   "outputs": [],
   "source": [
    "import pandas"
   ]
  },
  {
   "cell_type": "code",
   "execution_count": 4,
   "id": "fc022953",
   "metadata": {},
   "outputs": [],
   "source": [
    "data_orig = pandas.read_csv(\"data/data-orig.csv\")"
   ]
  },
  {
   "attachments": {},
   "cell_type": "markdown",
   "id": "8e6861a0",
   "metadata": {},
   "source": [
    "<strong>Original Data Description</strong>\n",
    "\n",
    "<strong>Name</strong>: Huge Dataset - COVID 19 worldwide case\n",
    "\n",
    "<strong>Columns</strong>:\n",
    "- iso_code (categorical): The ISO code for a country\n",
    "- continent (categorical): The continent the country is on\n",
    "- location (categorical): The name of the country\n",
    "- date (categorical): Date the data was collected\n",
    "- total_cases (numerical): Total confirmed cases of COVID-19 in the country\n",
    "- new_cases (numerical): Total confirmed cases of CAVID-19 since the last data collection\n",
    "- total_deaths (numerical): Total deaths due to COVID-19\n",
    "- new_deaths (numerical): Total new deaths due to COVID-19 since the last data collection\n",
    "- new_deaths_smoothed (numerical): new_deaths column smoothed to 7 days\n",
    "- total_cases_per_million (numerical): Total confirmed COVID-19 cases per million people in the population\n",
    "- new_cases_per_million (numerical): Total new confirmed COVID-19 cases per million people in the population\n",
    "- new_cases_smoothed_per_million (numerical): new_cases_per_million column smoothed to 7 days\n",
    "- total_deaths_per_million (numerical): Total number of deaths per million people in the population\n",
    "- new_deaths_per_million (numerical): Total number of new deaths per million people in the population\n",
    "- new_deaths_smoothed_per_million (numerical): new_deaths_per_million smoothed to 7 days\n",
    "- reproduction_rate (numerical): Real-time estimate of the effective reproduction rate (R) of COVID-19\n",
    "- icu_patients (numerical): Number of ICU patients on a given day\n",
    "- icu_patients_per_million (numerical): Number of ICU patients per mullion people in the population on a given day\n",
    "- hosp_patients (numerical): Number of hospitalized patients on a given day\n",
    "- hosp_patients_per_million (numerical): Number of hospitalized patients per million people in the population on a given day\n",
    "- weekly_icu_admissions (numerical): Number of COVID-19 patients newly admitted to intensive care units (ICUs) in a given week\n",
    "- weekly_icu_admissions_per_million (numerical): Number of COVID-19 patients newly admitted to intensive care units (ICUs) in a given week per million people\n",
    "- weekly_hosp_admissions (numerical): Number of COVID-19 patients newly admitted to hospitals in a given week\n",
    "- weekly_hosp_admissions_per_million (numerical): Number of COVID-19 patients newly admitted to hospitals in a given week per million people\n",
    "- new_tests (numerical): New tests for COVID-19 (only calculated for consecutive days)\n",
    "- total_tests (numerical): Total tests for COVID-19\n",
    "- total_tests_per_thousand (numerical): Total tests for COVID-19 per 1,000 people\n",
    "- new_tests_per_thousand (numerical): New tests for COVID-19 per 1,000 people\n",
    "- new_tests_smoothed (numerical): New tests for COVID-19 (7-day smoothed)\n",
    "- new_tests_smoothed_per_thousand (numerical): New tests for COVID-19 (7-day smoothed) per 1,000 people\n",
    "- positive_rate (numerical): The share of COVID-19 tests that are positive, given as a rolling 7-day average (this is the inverse of testspercase)\n",
    "- tests_per_case (numerical): Tests conducted per new confirmed case of COVID-19, given as a rolling 7-day average (this is the inverse of positiverate)\n",
    "- tests_units (numerical): Units used by the location to report its testing data\n",
    "- total_vaccinations (numerical): Total number of COVID-19 vaccination doses administered\n",
    "- people_vaccinated (numerical): Total number of people who received at least one vaccine dose\n",
    "- people_fully_vaccinated (numerical): Total number of people who received all doses prescribed by the vaccination protocol\n",
    "- total_boosters (numerical): Total number of COVID-19 vaccination booster doses administered\n",
    "- new_vaccinations (numerical): New COVID-19 vaccination doses administered (only calculated for consecutive days)\n",
    "- new_vaccinations_smoothed (numerical): New COVID-19 vaccination doses administered (7-day smoothed)\n",
    "- total_vaccinations_per_hundred (numerical): Total number of COVID-19 vaccination doses administered per 100 people in the total population\n",
    "- people_vaccinated_per_hundred (numerical): Total number of people who received at least one vaccine dose per 100 people in the total population\n",
    "- people_fully_vaccinated_per_hundred (numerical): Total number of people who received all doses prescribed by the vaccination protocol per 100 people in the total population\n",
    "- total_boosters_per_hundred (numerical): Total number of COVID-19 vaccination booster doses administered per 100 people in the total population\n",
    "- new_vaccinations_smoothed_per_million (numerical): New COVID-19 vaccination doses administered (7-day smoothed) per 1,000,000 people in the total population\n",
    "- new_people_vaccinated_smoothed (numerical): Daily number of people receiving their first vaccine dose (7-day smoothed)\n",
    "- new_people_vaccinated_smoothed_per_hundred (numerical): Daily number of people receiving their first vaccine dose (7-day smoothed) per 100 people in the total population\n",
    "- stringency_index (numerical): Government Response Stringency Index: composite measure based on 9 response indicators including school closures, workplace closures, and travel bans, rescaled to a value from 0 to 100 (100 = strictest response)\n",
    "- population (numerical): Population of the country\n",
    "- population_density (numerical): Number of people divided by land area, measured in square kilometers, most recent year available\n",
    "- median_age (numerical): Median age of the population, UN projection for 2020\n",
    "- aged_65_older (numerical): Share of the population that is 65 years and older, most recent year available\n",
    "- aged_70_older (numerical): Share of the population that is 70 years and older in 2015\n",
    "- gdp_per_capita (numerical): Gross domestic product at purchasing power parity (constant 2011 international dollars), most recent year available\n",
    "- extreme_poverty (numerical): Share of the population living in extreme poverty, most recent year available since 2010\n",
    "- cardiovasc_death_rate (numerical): Death rate from cardiovascular disease in 2017 (annual number of deaths per 100,000 people)\n",
    "- diabetes_prevalence (numerical): Diabetes prevalence (% of population aged 20 to 79) in 2017\n",
    "- female_smokers (numerical): Share of women who smoke, most recent year available\n",
    "- male_smokers (numerical): Share of men who smoke, most recent year available\n",
    "- handwashing_facilities (numerical): Share of the population with basic handwashing facilities on-premises, most recent year available\n",
    "- hospital_beds_per_thousand (numerical): Hospital beds per 1,000 people, most recent year available since 2010\n",
    "- life_expectancy (numerical): Life expectancy at birth in 2019\n",
    "- human_development_index (numerical): A composite index measuring average achievement in three basic dimensions of human development—a long and healthy life, knowledge, and a decent standard of living.\n",
    "- excess_mortality_cumulative_absolute (numerical): Cumulative difference between the reported number of deaths since 1 January 2020 and the projected number of deaths for the same period based on previous years.\n",
    "- excess_mortality_cumulative (numerical): Percentage difference between the cumulative number of deaths since 1 January 2020 and the cumulative projected deaths for the same period based on previous years.\n",
    "- excess_mortality (numerical): Percentage difference between the reported number of weekly or monthly deaths in 2020–2021 and the projected number of deaths for the same period based on previous years.\n",
    "- excess_mortality_cumulative_per_million (numerical): Cumulative difference between the reported number of deaths since 1 January 2020 and the projected number of deaths for the same period based on previous years, per million people.\n",
    "\n",
    "\n",
    "<strong>In total</strong>:\n",
    "- 4 categorical\n",
    "- 66 numerical"
   ]
  },
  {
   "cell_type": "markdown",
   "id": "1a809bec",
   "metadata": {},
   "source": [
    "<strong>Questions:</strong>\n",
    "1. How related is the age and number of death counts due to COVID-19?\n",
    "2. Do certain continents have more deaths per million people?\n",
    "3. Does GDP effect the number of deaths per million people?\n",
    "4. Is the total number of vaccinations lower on certain continents?"
   ]
  },
  {
   "cell_type": "markdown",
   "id": "7dc8b1e5-3e29-4da6-8d36-0e7cf48a3e59",
   "metadata": {},
   "source": [
    "### Part 2 - Data Inspection\n",
    "\n",
    "Write some code to summarize the datasets.  Think about the following questions:\n",
    "- What type of data is each variable? (think like a data scientist here, not a computer scientist)\n",
    "- What is the total size of the data sets?\n",
    "- What time boundaries are there in the dataset?  IOW, what time frame do they span?\n",
    "- Are there any missing values in any of the variables? \n",
    "\n",
    "Do this with Intentionality.  Don't skimp. "
   ]
  },
  {
   "cell_type": "markdown",
   "id": "9c86c2e1",
   "metadata": {},
   "source": [
    "<strong>Data Types:</strong>\n",
    "- Categorical: "
   ]
  },
  {
   "cell_type": "markdown",
   "id": "f816006c-868c-4863-b0b8-e56e8a1ec8f3",
   "metadata": {
    "tags": []
   },
   "source": [
    "### Part 3 - Data Description\n",
    "\n",
    "- Create a data description (data dictionary) for your data sets.\n",
    "    - Describe each variable (4-6 word explanation)\n",
    "    - If categorical, what levels are present? If the levels are encoded, what do the codes mean?\n",
    "    - If numeric, provide min, max, median and any other univariate stats you'd like to add in. \n",
    "- Where appropriate, provide histograms or other visualizations to characterize each variable. "
   ]
  },
  {
   "cell_type": "code",
   "execution_count": null,
   "id": "78e72e20-2c70-4d51-9662-d373f5c2306c",
   "metadata": {},
   "outputs": [],
   "source": []
  },
  {
   "cell_type": "markdown",
   "id": "e3afbb04-3bee-4c47-b4ba-d2bfc247492a",
   "metadata": {},
   "source": [
    "### Part 4 - Merge the data\n",
    "\n",
    "Now that you have a better feel for each of your two (or three, for the 7394 students) data sets, it is time to merge them. Describe your strategy for merging the data sets and then actually perform the merge.  \n",
    "\n",
    "Develop a strategy for verifying that the data is properly merged (hoping and finger-crossing are not valid strategies). "
   ]
  },
  {
   "cell_type": "code",
   "execution_count": null,
   "id": "6ccfb384-f695-4a49-a084-d373d45111f6",
   "metadata": {},
   "outputs": [],
   "source": []
  },
  {
   "cell_type": "markdown",
   "id": "3063ca2e-ec1b-4799-bc76-4a464fc82921",
   "metadata": {
    "tags": []
   },
   "source": [
    "### Part 5 - Explore Bivariate relationships\n",
    "\n",
    "- Choose a reasoned set of variables to explore further.  You don't have to explore all possible pairs of variables, nor do we want to grade that much.  Choose 7 - 9 variables. One should be a variable that you'd like to predict (target variable) using the others (predictor variables). \n",
    "- List your predictor variables\n",
    "- List your target variable\n",
    "- Briefly describe why you have chosen these. \n",
    "\n",
    "Use any of the available visualizations from Seaborn to explore the relationships between the variables. Explore the relationships among the predictor variables as well as the relationship between each predictor variable and the target variable.  Which of the predictor variables are most strongly related?  Are there any interesting relationships between categorical predictors and numeric predictors?  If there are any dichotomous variables, does that influence any of the relationships? Are the relationships positive or negative? \n",
    "\n",
    "Below each plot, you should provide a description and interpretation of the plot.  Make sure to include why the variables in that plot were chosen and what you hope the reader would gain from it as well. "
   ]
  },
  {
   "cell_type": "code",
   "execution_count": null,
   "id": "4058bb4e-b6a0-4d4f-b271-cd0ec29951ab",
   "metadata": {},
   "outputs": [],
   "source": []
  }
 ],
 "metadata": {
  "kernelspec": {
   "display_name": "Python 3",
   "language": "python",
   "name": "python3"
  },
  "language_info": {
   "codemirror_mode": {
    "name": "ipython",
    "version": 3
   },
   "file_extension": ".py",
   "mimetype": "text/x-python",
   "name": "python",
   "nbconvert_exporter": "python",
   "pygments_lexer": "ipython3",
   "version": "3.8.10"
  }
 },
 "nbformat": 4,
 "nbformat_minor": 5
}
