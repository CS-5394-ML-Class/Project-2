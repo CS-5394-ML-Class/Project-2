{
 "cells": [
  {
   "cell_type": "markdown",
   "id": "245918b3-be3c-4d1f-9a58-7f2a88d01183",
   "metadata": {},
   "source": [
    "# Project 2\n",
    "### CS 5/7394 - Applied Machine Learning\n",
    "\n",
    "- **Due** - March 11 @ 11:59 pm pushed to Github repo\n",
    "- **Teams** - You can do this project solo or in pairs.  Not 3, not 4 not 5... Max of 2. If a 5394 student pairs with a 7394 student, the pair needs to do the 7394 work. "
   ]
  },
  {
   "cell_type": "markdown",
   "id": "cae9b08f-7745-4dfb-8927-258f22423720",
   "metadata": {},
   "source": [
    "Below are 6 Kaggle Datasets.  You will choose 1 to work with for this project. \n",
    "\n",
    "- [Airfare Prediction Dataset](https://www.kaggle.com/zwartfreak/airline-fare-prediction)\n",
    "- [Chinese Rest Holiday Dataset](https://www.kaggle.com/holoong9291/chinese-rest-holiday-dataset-2020-to-2022)\n",
    "- [Jigsaw Toxic Comment Classification Challenge](https://www.kaggle.com/julian3833/jigsaw-toxic-comment-classification-challenge?select=train.csv)\n",
    "- [Latest Covid 19 Dataset Worldwide](https://www.kaggle.com/sandhyakrishnan02/latest-covid-19-dataset-worldwide)\n",
    "- [Trains](https://www.kaggle.com/vahidehdashti/machinelearningdatabase-trains?select=trains-original.data)\n",
    "- [Football Data top 5 Leagues](https://www.kaggle.com/sanjeetsinghnaik/football-data-top-5-leagues)\n",
    "\n",
    "Merging disparate datasets is a staple of the data exploration process.  Therefore, for which ever data set above that you choose, you will need to independently find **an additional** dataset to merge with your selection.  The only requirement is that it add to the richness of the original dataset. Students in the 7000-level version of the class need to find two additional data sets to merge with the original selection. \n",
    "\n",
    "_Note_: If you want to start with a different data set, you need to get Fontenot's OK first.  "
   ]
  },
  {
   "cell_type": "markdown",
   "id": "126330db-b29f-46d9-b16e-7811612a9e73",
   "metadata": {},
   "source": [
    "### Your Tasks\n",
    "\n",
    "Below, there are cells that provide directions on what to do for the project.  \n",
    "\n",
    "You can insert as many cells between the ones below as you'd like, but please **Do NOT** change the cells already provided. "
   ]
  },
  {
   "cell_type": "markdown",
   "id": "0f2ca87f-07eb-4792-b76e-15f2f01d1408",
   "metadata": {},
   "source": [
    "### Part 1 - Getting Started\n",
    "\n",
    "- Import libraries\n",
    "- Load original Data (which ever one you chose from the provided list) into a data frame. \n",
    "- Load your additional data set(s) into a data frame. \n",
    "- In a markdown cell, provide a brief description of your the data sets you've chosen to work with.  \n",
    "- Develop a list of 3 - 4 questions that you hope to be able to answer after the exploration of the data and write them in this section.  (Relationship Questions)"
   ]
  },
  {
   "cell_type": "code",
   "execution_count": 84,
   "id": "05c0156a-0f03-4f0f-b243-eb87d71debdd",
   "metadata": {},
   "outputs": [
    {
     "data": {
      "text/html": [
       "<div>\n",
       "<style scoped>\n",
       "    .dataframe tbody tr th:only-of-type {\n",
       "        vertical-align: middle;\n",
       "    }\n",
       "\n",
       "    .dataframe tbody tr th {\n",
       "        vertical-align: top;\n",
       "    }\n",
       "\n",
       "    .dataframe thead th {\n",
       "        text-align: right;\n",
       "    }\n",
       "</style>\n",
       "<table border=\"1\" class=\"dataframe\">\n",
       "  <thead>\n",
       "    <tr style=\"text-align: right;\">\n",
       "      <th></th>\n",
       "      <th>iso_code</th>\n",
       "      <th>country</th>\n",
       "      <th>2021_last_updated</th>\n",
       "      <th>2020_population</th>\n",
       "      <th>area</th>\n",
       "      <th>density_sq_km</th>\n",
       "      <th>growth_rate</th>\n",
       "      <th>world_%</th>\n",
       "      <th>rank</th>\n",
       "    </tr>\n",
       "  </thead>\n",
       "  <tbody>\n",
       "    <tr>\n",
       "      <th>0</th>\n",
       "      <td>CHN</td>\n",
       "      <td>China</td>\n",
       "      <td>1,447,065,329</td>\n",
       "      <td>1,439,323,776</td>\n",
       "      <td>9,706,961 sq_km</td>\n",
       "      <td>149/sq_km</td>\n",
       "      <td>0.34%</td>\n",
       "      <td>18.34%</td>\n",
       "      <td>1</td>\n",
       "    </tr>\n",
       "    <tr>\n",
       "      <th>1</th>\n",
       "      <td>IND</td>\n",
       "      <td>India</td>\n",
       "      <td>1,401,310,563</td>\n",
       "      <td>1,380,004,385</td>\n",
       "      <td>3,287,590 sq_km</td>\n",
       "      <td>424/sq_km</td>\n",
       "      <td>0.97%</td>\n",
       "      <td>17.69%</td>\n",
       "      <td>2</td>\n",
       "    </tr>\n",
       "    <tr>\n",
       "      <th>2</th>\n",
       "      <td>USA</td>\n",
       "      <td>United States</td>\n",
       "      <td>334,058,426</td>\n",
       "      <td>331,002,651</td>\n",
       "      <td>9,372,610 sq_km</td>\n",
       "      <td>36/sq_km</td>\n",
       "      <td>0.58%</td>\n",
       "      <td>4.23%</td>\n",
       "      <td>3</td>\n",
       "    </tr>\n",
       "    <tr>\n",
       "      <th>3</th>\n",
       "      <td>IDN</td>\n",
       "      <td>Indonesia</td>\n",
       "      <td>278,037,263</td>\n",
       "      <td>273,523,615</td>\n",
       "      <td>1,904,569 sq_km</td>\n",
       "      <td>145/sq_km</td>\n",
       "      <td>1.04%</td>\n",
       "      <td>3.51%</td>\n",
       "      <td>4</td>\n",
       "    </tr>\n",
       "    <tr>\n",
       "      <th>4</th>\n",
       "      <td>PAK</td>\n",
       "      <td>Pakistan</td>\n",
       "      <td>227,724,796</td>\n",
       "      <td>220,892,340</td>\n",
       "      <td>881,912 sq_km</td>\n",
       "      <td>255/sq_km</td>\n",
       "      <td>1.95%</td>\n",
       "      <td>2.86%</td>\n",
       "      <td>5</td>\n",
       "    </tr>\n",
       "    <tr>\n",
       "      <th>...</th>\n",
       "      <td>...</td>\n",
       "      <td>...</td>\n",
       "      <td>...</td>\n",
       "      <td>...</td>\n",
       "      <td>...</td>\n",
       "      <td>...</td>\n",
       "      <td>...</td>\n",
       "      <td>...</td>\n",
       "      <td>...</td>\n",
       "    </tr>\n",
       "    <tr>\n",
       "      <th>219</th>\n",
       "      <td>MSR</td>\n",
       "      <td>Montserrat</td>\n",
       "      <td>4,977</td>\n",
       "      <td>4,992</td>\n",
       "      <td>102 sq_km</td>\n",
       "      <td>49/sq_km</td>\n",
       "      <td>-0.30%</td>\n",
       "      <td>0.00%</td>\n",
       "      <td>228</td>\n",
       "    </tr>\n",
       "    <tr>\n",
       "      <th>220</th>\n",
       "      <td>FLK</td>\n",
       "      <td>Falkland Islands</td>\n",
       "      <td>3,533</td>\n",
       "      <td>3,480</td>\n",
       "      <td>12,173 sq_km</td>\n",
       "      <td>0/sq_km</td>\n",
       "      <td>1.52%</td>\n",
       "      <td>0.00%</td>\n",
       "      <td>229</td>\n",
       "    </tr>\n",
       "    <tr>\n",
       "      <th>221</th>\n",
       "      <td>NIU</td>\n",
       "      <td>Niue</td>\n",
       "      <td>1,619</td>\n",
       "      <td>1,626</td>\n",
       "      <td>260 sq_km</td>\n",
       "      <td>6/sq_km</td>\n",
       "      <td>-0.43%</td>\n",
       "      <td>0.00%</td>\n",
       "      <td>230</td>\n",
       "    </tr>\n",
       "    <tr>\n",
       "      <th>222</th>\n",
       "      <td>TKL</td>\n",
       "      <td>Tokelau</td>\n",
       "      <td>1,373</td>\n",
       "      <td>1,357</td>\n",
       "      <td>12 sq_km</td>\n",
       "      <td>114/sq_km</td>\n",
       "      <td>1.18%</td>\n",
       "      <td>0.00%</td>\n",
       "      <td>231</td>\n",
       "    </tr>\n",
       "    <tr>\n",
       "      <th>223</th>\n",
       "      <td>VAT</td>\n",
       "      <td>Vatican City</td>\n",
       "      <td>800</td>\n",
       "      <td>801</td>\n",
       "      <td>1 sq_km</td>\n",
       "      <td>800/sq_km</td>\n",
       "      <td>-0.12%</td>\n",
       "      <td>0.00%</td>\n",
       "      <td>232</td>\n",
       "    </tr>\n",
       "  </tbody>\n",
       "</table>\n",
       "<p>224 rows × 9 columns</p>\n",
       "</div>"
      ],
      "text/plain": [
       "    iso_code           country 2021_last_updated 2020_population  \\\n",
       "0        CHN             China     1,447,065,329   1,439,323,776   \n",
       "1        IND             India     1,401,310,563   1,380,004,385   \n",
       "2        USA     United States       334,058,426     331,002,651   \n",
       "3        IDN         Indonesia       278,037,263     273,523,615   \n",
       "4        PAK          Pakistan       227,724,796     220,892,340   \n",
       "..       ...               ...               ...             ...   \n",
       "219      MSR        Montserrat             4,977           4,992   \n",
       "220      FLK  Falkland Islands             3,533           3,480   \n",
       "221      NIU              Niue             1,619           1,626   \n",
       "222      TKL           Tokelau             1,373           1,357   \n",
       "223      VAT      Vatican City               800             801   \n",
       "\n",
       "                area density_sq_km growth_rate world_%  rank  \n",
       "0    9,706,961 sq_km     149/sq_km       0.34%  18.34%     1  \n",
       "1    3,287,590 sq_km     424/sq_km       0.97%  17.69%     2  \n",
       "2    9,372,610 sq_km      36/sq_km       0.58%   4.23%     3  \n",
       "3    1,904,569 sq_km     145/sq_km       1.04%   3.51%     4  \n",
       "4      881,912 sq_km     255/sq_km       1.95%   2.86%     5  \n",
       "..               ...           ...         ...     ...   ...  \n",
       "219        102 sq_km      49/sq_km      -0.30%   0.00%   228  \n",
       "220     12,173 sq_km       0/sq_km       1.52%   0.00%   229  \n",
       "221        260 sq_km       6/sq_km      -0.43%   0.00%   230  \n",
       "222         12 sq_km     114/sq_km       1.18%   0.00%   231  \n",
       "223          1 sq_km     800/sq_km      -0.12%   0.00%   232  \n",
       "\n",
       "[224 rows x 9 columns]"
      ]
     },
     "execution_count": 208,
     "metadata": {},
     "output_type": "execute_result"
    }
   ],
   "source": [
    "import pandas\n",
    "\n",
    "indepData = pandas.read_csv(\"data/data-extra.csv\")\n",
    "indepData"
   ]
  },
  {
   "cell_type": "markdown",
   "id": "30aeff8c-3af1-4cef-bff2-e3339e705dd7",
   "metadata": {
    "jp-MarkdownHeadingCollapsed": true,
    "tags": []
   },
   "source": [
    "#### Independent Data Description\n",
    "\n",
    "**Name:** 2021 World Population (updated daily)\n",
    "\n",
    "**Description:** File contains data for only live 2021 population count which gets updated daily. Also contains more information about the country's growth rate, area, etc.\n",
    "\n",
    "**Columns**\n",
    "\n",
    "- **iso_code** (categorical): The ISO code for a country\n",
    "- **country** (categorical): Name of the country\n",
    "- **2021_last_updated** (numerical): Last recorded population for 2021\n",
    "- **2020_population** (numerical): Population in 2020\n",
    "- **area** (numerical): Size of country in square KM\n",
    "- **density_sq_km** (numerical): Average population per square KM\n",
    "- **growth_rate** (numerical): Growth rate of the population\n",
    "- **world_%** (numerical): Percentage of the world that the population of a country takes up\n",
    "- **rank** (categorical): Rankings based off size of population\n",
    "\n",
    "**Variable Distribution**\n",
    "\n",
    "- **Categorical:** 3\n",
    "- **Numerical:** 6\n",
    "- **Total:** 9\n",
    "\n",
    "**Questions**\n",
    "\n",
    "1. What are the death rates due to covid in larger countries compared to smaller countries?\n",
    "2. How does the size of population affect the death rate of covid?"
   ]
  },
  {
   "cell_type": "markdown",
   "id": "7dc8b1e5-3e29-4da6-8d36-0e7cf48a3e59",
   "metadata": {},
   "source": [
    "### Part 2 - Data Inspection\n",
    "\n",
    "Write some code to summarize the datasets.  Think about the following questions:\n",
    "- What type of data is each variable? (think like a data scientist here, not a computer scientist)\n",
    "- What is the total size of the data sets?\n",
    "- What time boundaries are there in the dataset?  IOW, what time frame do they span?\n",
    "- Are there any missing values in any of the variables? \n",
    "\n",
    "Do this with Intentionality.  Don't skimp. "
   ]
  },
  {
   "cell_type": "markdown",
   "id": "53b7f739-35d8-48a9-8376-0a2f2faf196a",
   "metadata": {},
   "source": [
    "**Data Types**\n",
    "- Categorical: \n",
    "    - iso_code\n",
    "    - country\n",
    "    - rank\n",
    "- Numerical: \n",
    "    - 2021_last_updated\n",
    "    - 2020_population\n",
    "    - area\n",
    "    - density_sq_km\n",
    "    - growth_rate\n",
    "    - world_%\n",
    "**Dataset Size**\n",
    "- Number of rows: 224\n",
    "- Number of Columns: 9\n",
    "\n",
    "**Time Frame**\n",
    "- Last updated on 12/31/21"
   ]
  },
  {
   "cell_type": "code",
   "execution_count": 61,
   "id": "82c77a9d-25cb-4234-a205-a07a63a0909a",
   "metadata": {},
   "outputs": [
    {
     "data": {
      "text/html": [
       "<div>\n",
       "<style scoped>\n",
       "    .dataframe tbody tr th:only-of-type {\n",
       "        vertical-align: middle;\n",
       "    }\n",
       "\n",
       "    .dataframe tbody tr th {\n",
       "        vertical-align: top;\n",
       "    }\n",
       "\n",
       "    .dataframe thead th {\n",
       "        text-align: right;\n",
       "    }\n",
       "</style>\n",
       "<table border=\"1\" class=\"dataframe\">\n",
       "  <thead>\n",
       "    <tr style=\"text-align: right;\">\n",
       "      <th></th>\n",
       "      <th>iso_code</th>\n",
       "      <th>country</th>\n",
       "      <th>2021_last_updated</th>\n",
       "      <th>2020_population</th>\n",
       "      <th>area</th>\n",
       "      <th>density_sq_km</th>\n",
       "      <th>growth_rate</th>\n",
       "      <th>world_%</th>\n",
       "      <th>rank</th>\n",
       "    </tr>\n",
       "  </thead>\n",
       "  <tbody>\n",
       "    <tr>\n",
       "      <th>0</th>\n",
       "      <td>CHN</td>\n",
       "      <td>China</td>\n",
       "      <td>1,447,065,329</td>\n",
       "      <td>1,439,323,776</td>\n",
       "      <td>9,706,961 sq_km</td>\n",
       "      <td>149/sq_km</td>\n",
       "      <td>0.34%</td>\n",
       "      <td>18.34%</td>\n",
       "      <td>1</td>\n",
       "    </tr>\n",
       "    <tr>\n",
       "      <th>1</th>\n",
       "      <td>IND</td>\n",
       "      <td>India</td>\n",
       "      <td>1,401,310,563</td>\n",
       "      <td>1,380,004,385</td>\n",
       "      <td>3,287,590 sq_km</td>\n",
       "      <td>424/sq_km</td>\n",
       "      <td>0.97%</td>\n",
       "      <td>17.69%</td>\n",
       "      <td>2</td>\n",
       "    </tr>\n",
       "    <tr>\n",
       "      <th>2</th>\n",
       "      <td>USA</td>\n",
       "      <td>United States</td>\n",
       "      <td>334,058,426</td>\n",
       "      <td>331,002,651</td>\n",
       "      <td>9,372,610 sq_km</td>\n",
       "      <td>36/sq_km</td>\n",
       "      <td>0.58%</td>\n",
       "      <td>4.23%</td>\n",
       "      <td>3</td>\n",
       "    </tr>\n",
       "    <tr>\n",
       "      <th>3</th>\n",
       "      <td>IDN</td>\n",
       "      <td>Indonesia</td>\n",
       "      <td>278,037,263</td>\n",
       "      <td>273,523,615</td>\n",
       "      <td>1,904,569 sq_km</td>\n",
       "      <td>145/sq_km</td>\n",
       "      <td>1.04%</td>\n",
       "      <td>3.51%</td>\n",
       "      <td>4</td>\n",
       "    </tr>\n",
       "    <tr>\n",
       "      <th>4</th>\n",
       "      <td>PAK</td>\n",
       "      <td>Pakistan</td>\n",
       "      <td>227,724,796</td>\n",
       "      <td>220,892,340</td>\n",
       "      <td>881,912 sq_km</td>\n",
       "      <td>255/sq_km</td>\n",
       "      <td>1.95%</td>\n",
       "      <td>2.86%</td>\n",
       "      <td>5</td>\n",
       "    </tr>\n",
       "  </tbody>\n",
       "</table>\n",
       "</div>"
      ],
      "text/plain": [
       "  iso_code        country 2021_last_updated 2020_population             area  \\\n",
       "0      CHN          China     1,447,065,329   1,439,323,776  9,706,961 sq_km   \n",
       "1      IND          India     1,401,310,563   1,380,004,385  3,287,590 sq_km   \n",
       "2      USA  United States       334,058,426     331,002,651  9,372,610 sq_km   \n",
       "3      IDN      Indonesia       278,037,263     273,523,615  1,904,569 sq_km   \n",
       "4      PAK       Pakistan       227,724,796     220,892,340    881,912 sq_km   \n",
       "\n",
       "  density_sq_km growth_rate world_%  rank  \n",
       "0     149/sq_km       0.34%  18.34%     1  \n",
       "1     424/sq_km       0.97%  17.69%     2  \n",
       "2      36/sq_km       0.58%   4.23%     3  \n",
       "3     145/sq_km       1.04%   3.51%     4  \n",
       "4     255/sq_km       1.95%   2.86%     5  "
      ]
     },
     "execution_count": 61,
     "metadata": {},
     "output_type": "execute_result"
    }
   ],
   "source": [
    "indepData.dropna(axis=1)[:5]"
   ]
  },
  {
   "cell_type": "markdown",
   "id": "9873055a-4c19-4d8f-aa08-2ec223f13a42",
   "metadata": {},
   "source": [
    "There are no **missing values**"
   ]
  },
  {
   "cell_type": "markdown",
   "id": "f816006c-868c-4863-b0b8-e56e8a1ec8f3",
   "metadata": {
    "tags": []
   },
   "source": [
    "### Part 3 - Data Description\n",
    "\n",
    "- Create a data description (data dictionary) for your data sets.\n",
    "    - Describe each variable (4-6 word explanation)\n",
    "    - If categorical, what levels are present? If the levels are encoded, what do the codes mean?\n",
    "    - If numeric, provide min, max, median and any other univariate stats you'd like to add in. \n",
    "- Where appropriate, provide histograms or other visualizations to characterize each variable. "
   ]
  },
  {
   "cell_type": "code",
   "execution_count": 218,
   "id": "3cf28d6b-6a7b-4777-932a-4de485eda90d",
   "metadata": {},
   "outputs": [
    {
     "data": {
      "text/plain": [
       "iso_code                     ABW\n",
       "country              Afghanistan\n",
       "2021_last_updated       10051436\n",
       "2020_population         10099265\n",
       "area                          1 \n",
       "density_sq_km                  0\n",
       "growth_rate                -0.00\n",
       "world_%                     0.00\n",
       "rank                           1\n",
       "dtype: object"
      ]
     },
     "execution_count": 229,
     "metadata": {},
     "output_type": "execute_result"
    }
   ],
   "source": [
    "indepData_clean = indepData\n",
    "indepData_clean = indepData_clean.replace(',','', regex=True)\n",
    "indepData_clean = indepData_clean.replace('sq_km','', regex=True)\n",
    "indepData_clean = indepData_clean.replace('/','', regex=True)\n",
    "indepData_clean = indepData_clean.replace('%','', regex=True)\n",
    "pandas.options.display.max_rows = 30\n",
    "#indepData_clean.min()"
   ]
  },
  {
   "cell_type": "code",
   "execution_count": 231,
   "id": "7cdcdd24-f13a-4947-af00-e4a4c4116891",
   "metadata": {},
   "outputs": [],
   "source": [
    "#indepData_clean.max()"
   ]
  },
  {
   "cell_type": "markdown",
   "id": "1a05c8c9-a93e-4bd7-bb8e-8f7191ef34ca",
   "metadata": {},
   "source": [
    "#### Categorical"
   ]
  },
  {
   "cell_type": "markdown",
   "id": "13e8d718-7d07-484a-b626-57c3cbd2214a",
   "metadata": {},
   "source": [
    "| Column Name | Values | Column Description|\n",
    "| --- | --- | --- |\n",
    "| iso_code | All ISO codes for each country (text) | The ISO code for a country |\n",
    "| country | All country  names (text) | The name of the country |\n",
    "| rank | Rank 1 - 232 | Ranking each country based off population |"
   ]
  },
  {
   "cell_type": "markdown",
   "id": "6efea7bd-8a43-4e5d-8b9d-d938ff930b05",
   "metadata": {},
   "source": [
    "#### Numerical"
   ]
  },
  {
   "cell_type": "markdown",
   "id": "dce2b6f4-e2a2-49b5-88cf-07d1b7624f2b",
   "metadata": {},
   "source": [
    "| Column Name | Minimum Value | Maximum Value |Column Description|\n",
    "| --- | --- | --- | --- |\n",
    "| 2021_last_updated | 800 | 1,447,065,329 | The last recorded population of 2021 |\n",
    "| 2020_population | 801 | 1,439,323,776 | The 2020 population for each country |\n",
    "| area | ? | ? | Size of each country |\n",
    "| density_sq_km | ? | ? | The population per sq km |\n",
    "| growth_rate | -1.29% | 4.43% | The growth of the population per day |\n",
    "| world_% | 0.00% | 18.34% | The amount of the world population each country takes up |"
   ]
  },
  {
   "cell_type": "code",
   "execution_count": 220,
   "id": "ba9f13aa-3e99-4fdf-b415-58ddf853640a",
   "metadata": {},
   "outputs": [],
   "source": [
    "indepData_num = indepData_clean.drop([\"iso_code\", \"country\", \"rank\"], axis=1)"
   ]
  },
  {
   "cell_type": "code",
   "execution_count": 221,
   "id": "771b3a07-f63f-4e39-9ec9-33a052c4ed3d",
   "metadata": {},
   "outputs": [],
   "source": [
    "indepData_num = indepData_num.astype(float)"
   ]
  },
  {
   "cell_type": "code",
   "execution_count": 222,
   "id": "1dc04807-429d-411f-9c54-28719bf0d957",
   "metadata": {},
   "outputs": [
    {
     "data": {
      "text/plain": [
       "2021_last_updated    800.00\n",
       "2020_population      801.00\n",
       "area                   1.00\n",
       "density_sq_km          0.00\n",
       "growth_rate           -1.29\n",
       "world_%                0.00\n",
       "dtype: float64"
      ]
     },
     "execution_count": 222,
     "metadata": {},
     "output_type": "execute_result"
    }
   ],
   "source": [
    "indepData_num.min()"
   ]
  },
  {
   "cell_type": "code",
   "execution_count": 223,
   "id": "fa9d033f-a236-422f-843c-80763d6749ff",
   "metadata": {},
   "outputs": [
    {
     "data": {
      "text/plain": [
       "2021_last_updated    1.447065e+09\n",
       "2020_population      1.439324e+09\n",
       "area                 1.709824e+07\n",
       "density_sq_km        2.194600e+04\n",
       "growth_rate          4.430000e+00\n",
       "world_%              1.834000e+01\n",
       "dtype: float64"
      ]
     },
     "execution_count": 223,
     "metadata": {},
     "output_type": "execute_result"
    }
   ],
   "source": [
    "indepData_num.max()"
   ]
  },
  {
   "cell_type": "code",
   "execution_count": 224,
   "id": "e8606195-e978-4a62-ab31-1dd8ff258c8f",
   "metadata": {},
   "outputs": [
    {
     "data": {
      "text/plain": [
       "array([[<AxesSubplot:title={'center':'2021_last_updated'}>,\n",
       "        <AxesSubplot:title={'center':'2020_population'}>]], dtype=object)"
      ]
     },
     "execution_count": 224,
     "metadata": {},
     "output_type": "execute_result"
    },
    {
     "data": {
      "image/png": "[encoded data removed]",
      "text/plain": [
       "<Figure size 432x288 with 2 Axes>"
      ]
     },
     "metadata": {
      "needs_background": "light"
     },
     "output_type": "display_data"
    }
   ],
   "source": [
    "indepData_num.hist([\"2021_last_updated\", \"2020_population\"])"
   ]
  },
  {
   "cell_type": "code",
   "execution_count": 225,
   "id": "2c7cb3c0-bed2-4576-a09e-31f512d2edab",
   "metadata": {},
   "outputs": [
    {
     "data": {
      "text/plain": [
       "array([[<AxesSubplot:title={'center':'area'}>,\n",
       "        <AxesSubplot:title={'center':'density_sq_km'}>]], dtype=object)"
      ]
     },
     "execution_count": 225,
     "metadata": {},
     "output_type": "execute_result"
    },
    {
     "data": {
      "image/png": "[encoded data removed]",
      "text/plain": [
       "<Figure size 432x288 with 2 Axes>"
      ]
     },
     "metadata": {
      "needs_background": "light"
     },
     "output_type": "display_data"
    }
   ],
   "source": [
    "indepData_num.hist([\"area\", \"density_sq_km\"])"
   ]
  },
  {
   "cell_type": "code",
   "execution_count": 226,
   "id": "bdeb6fbf-a25d-44ad-b623-dcbe811e0821",
   "metadata": {},
   "outputs": [
    {
     "data": {
      "text/plain": [
       "array([[<AxesSubplot:title={'center':'growth_rate'}>,\n",
       "        <AxesSubplot:title={'center':'world_%'}>]], dtype=object)"
      ]
     },
     "execution_count": 226,
     "metadata": {},
     "output_type": "execute_result"
    },
    {
     "data": {
      "image/png": "[encoded data removed]",
      "text/plain": [
       "<Figure size 432x288 with 2 Axes>"
      ]
     },
     "metadata": {
      "needs_background": "light"
     },
     "output_type": "display_data"
    }
   ],
   "source": [
    "indepData_num.hist([\"growth_rate\", \"world_%\"])"
   ]
  },
  {
   "cell_type": "code",
   "execution_count": 227,
   "id": "3603dfe1-ac21-46be-81b5-5155f928d9d5",
   "metadata": {},
   "outputs": [],
   "source": [
    "#indepData_clean.groupby('rank')['2021_last_updated'].sum().sort_values(ascending=False).plot(kind='bar')"
   ]
  },
  {
   "cell_type": "code",
   "execution_count": 228,
   "id": "0879d5ba-59c2-4a78-be24-a97440b2fe66",
   "metadata": {},
   "outputs": [
    {
     "data": {
      "text/plain": [
       "array([[<AxesSubplot:xlabel='2021_last_updated', ylabel='2021_last_updated'>,\n",
       "        <AxesSubplot:xlabel='area', ylabel='2021_last_updated'>,\n",
       "        <AxesSubplot:xlabel='density_sq_km', ylabel='2021_last_updated'>,\n",
       "        <AxesSubplot:xlabel='growth_rate', ylabel='2021_last_updated'>,\n",
       "        <AxesSubplot:xlabel='world_%', ylabel='2021_last_updated'>],\n",
       "       [<AxesSubplot:xlabel='2021_last_updated', ylabel='area'>,\n",
       "        <AxesSubplot:xlabel='area', ylabel='area'>,\n",
       "        <AxesSubplot:xlabel='density_sq_km', ylabel='area'>,\n",
       "        <AxesSubplot:xlabel='growth_rate', ylabel='area'>,\n",
       "        <AxesSubplot:xlabel='world_%', ylabel='area'>],\n",
       "       [<AxesSubplot:xlabel='2021_last_updated', ylabel='density_sq_km'>,\n",
       "        <AxesSubplot:xlabel='area', ylabel='density_sq_km'>,\n",
       "        <AxesSubplot:xlabel='density_sq_km', ylabel='density_sq_km'>,\n",
       "        <AxesSubplot:xlabel='growth_rate', ylabel='density_sq_km'>,\n",
       "        <AxesSubplot:xlabel='world_%', ylabel='density_sq_km'>],\n",
       "       [<AxesSubplot:xlabel='2021_last_updated', ylabel='growth_rate'>,\n",
       "        <AxesSubplot:xlabel='area', ylabel='growth_rate'>,\n",
       "        <AxesSubplot:xlabel='density_sq_km', ylabel='growth_rate'>,\n",
       "        <AxesSubplot:xlabel='growth_rate', ylabel='growth_rate'>,\n",
       "        <AxesSubplot:xlabel='world_%', ylabel='growth_rate'>],\n",
       "       [<AxesSubplot:xlabel='2021_last_updated', ylabel='world_%'>,\n",
       "        <AxesSubplot:xlabel='area', ylabel='world_%'>,\n",
       "        <AxesSubplot:xlabel='density_sq_km', ylabel='world_%'>,\n",
       "        <AxesSubplot:xlabel='growth_rate', ylabel='world_%'>,\n",
       "        <AxesSubplot:xlabel='world_%', ylabel='world_%'>]], dtype=object)"
      ]
     },
     "execution_count": 228,
     "metadata": {},
     "output_type": "execute_result"
    },
    {
     "data": {
      "image/png": "[encoded data removed]",
      "text/plain": [
       "<Figure size 864x576 with 25 Axes>"
      ]
     },
     "metadata": {
      "needs_background": "light"
     },
     "output_type": "display_data"
    }
   ],
   "source": [
    "attributes = [\"2021_last_updated\", \"area\", \"density_sq_km\", \"growth_rate\", \"world_%\"]\n",
    "pandas.plotting.scatter_matrix(indepData_num[attributes], figsize=(12, 8))"
   ]
  },
  {
   "cell_type": "markdown",
   "id": "e3afbb04-3bee-4c47-b4ba-d2bfc247492a",
   "metadata": {},
   "source": [
    "### Part 4 - Merge the data\n",
    "\n",
    "Now that you have a better feel for each of your two (or three, for the 7394 students) data sets, it is time to merge them. Describe your strategy for merging the data sets and then actually perform the merge.  \n",
    "\n",
    "Develop a strategy for verifying that the data is properly merged (hoping and finger-crossing are not valid strategies). "
   ]
  },
  {
   "cell_type": "code",
   "execution_count": null,
   "id": "6ccfb384-f695-4a49-a084-d373d45111f6",
   "metadata": {},
   "outputs": [],
   "source": []
  },
  {
   "cell_type": "markdown",
   "id": "3063ca2e-ec1b-4799-bc76-4a464fc82921",
   "metadata": {
    "tags": []
   },
   "source": [
    "### Part 5 - Explore Bivariate relationships\n",
    "\n",
    "- Choose a reasoned set of variables to explore further.  You don't have to explore all possible pairs of variables, nor do we want to grade that much.  Choose 7 - 9 variables. One should be a variable that you'd like to predict (target variable) using the others (predictor variables). \n",
    "- List your predictor variables\n",
    "- List your target variable\n",
    "- Briefly describe why you have chosen these. \n",
    "\n",
    "Use any of the available visualizations from Seaborn to explore the relationships between the variables. Explore the relationships among the predictor variables as well as the relationship between each predictor variable and the target variable.  Which of the predictor variables are most strongly related?  Are there any interesting relationships between categorical predictors and numeric predictors?  If there are any dichotomous variables, does that influence any of the relationships? Are the relationships positive or negative? \n",
    "\n",
    "Below each plot, you should provide a description and interpretation of the plot.  Make sure to include why the variables in that plot were chosen and what you hope the reader would gain from it as well. "
   ]
  },
  {
   "cell_type": "code",
   "execution_count": null,
   "id": "4058bb4e-b6a0-4d4f-b271-cd0ec29951ab",
   "metadata": {},
   "outputs": [],
   "source": []
  }
 ],
 "metadata": {
  "kernelspec": {
   "display_name": "Python 3 (ipykernel)",
   "language": "python",
   "name": "python3"
  },
  "language_info": {
   "codemirror_mode": {
    "name": "ipython",
    "version": 3
   },
   "file_extension": ".py",
   "mimetype": "text/x-python",
   "name": "python",
   "nbconvert_exporter": "python",
   "pygments_lexer": "ipython3",
   "version": "3.9.7"
  }
 },
 "nbformat": 4,
 "nbformat_minor": 5
}
